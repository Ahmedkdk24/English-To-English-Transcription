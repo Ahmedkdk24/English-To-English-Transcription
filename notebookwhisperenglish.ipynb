{
 "cells": [
  {
   "cell_type": "code",
   "execution_count": 2,
   "metadata": {
    "_cell_guid": "b1076dfc-b9ad-4769-8c92-a6c4dae69d19",
    "_uuid": "8f2839f25d086af736a60e9eeb907d3b93b6e0e5",
    "execution": {
     "iopub.execute_input": "2025-07-19T14:02:59.691687Z",
     "iopub.status.busy": "2025-07-19T14:02:59.691428Z",
     "iopub.status.idle": "2025-07-19T14:02:59.698378Z",
     "shell.execute_reply": "2025-07-19T14:02:59.697617Z",
     "shell.execute_reply.started": "2025-07-19T14:02:59.691668Z"
    },
    "trusted": true
   },
   "outputs": [
    {
     "name": "stdout",
     "output_type": "stream",
     "text": [
      "/kaggle/input/audio-s1/Expats Asian Interview -30-35.mp3\n"
     ]
    }
   ],
   "source": [
    "# This Python 3 environment comes with many helpful analytics libraries installed\n",
    "# It is defined by the kaggle/python Docker image: https://github.com/kaggle/docker-python\n",
    "# For example, here's several helpful packages to load\n",
    "\n",
    "import numpy as np # linear algebra\n",
    "import pandas as pd # data processing, CSV file I/O (e.g. pd.read_csv)\n",
    "\n",
    "# Input data files are available in the read-only \"../input/\" directory\n",
    "# For example, running this (by clicking run or pressing Shift+Enter) will list all files under the input directory\n",
    "\n",
    "import os\n",
    "for dirname, _, filenames in os.walk('/kaggle/input'):\n",
    "    for filename in filenames:\n",
    "        print(os.path.join(dirname, filename))\n",
    "\n",
    "# You can write up to 20GB to the current directory (/kaggle/working/) that gets preserved as output when you create a version using \"Save & Run All\" \n",
    "# You can also write temporary files to /kaggle/temp/, but they won't be saved outside of the current session"
   ]
  },
  {
   "cell_type": "code",
   "execution_count": null,
   "metadata": {
    "execution": {
     "execution_failed": "2025-07-19T15:11:36.758Z",
     "iopub.execute_input": "2025-07-19T15:11:26.818240Z",
     "iopub.status.busy": "2025-07-19T15:11:26.818059Z"
    },
    "trusted": true
   },
   "outputs": [
    {
     "name": "stdout",
     "output_type": "stream",
     "text": [
      "\u001b[2K   \u001b[90m━━━━━━━━━━━━━━━━━━━━━━━━━━━━━━━━━━━━━━━━\u001b[0m \u001b[32m1.1/1.1 MB\u001b[0m \u001b[31m14.7 MB/s\u001b[0m eta \u001b[36m0:00:00\u001b[0m00:01\u001b[0m00:01\u001b[0m\n",
      "\u001b[2K   \u001b[90m━━━━━━━━━━━━━━━━━━━━━━━━━━━━━━━━━━━━━━━━\u001b[0m \u001b[32m39.7/39.7 MB\u001b[0m \u001b[31m38.7 MB/s\u001b[0m eta \u001b[36m0:00:00\u001b[0m:00:01\u001b[0m00:01\u001b[0m\n",
      "\u001b[2K   \u001b[90m━━━━━━━━━━━━━━━━━━━━━━━━━━━━━━━━━━━━━━━━\u001b[0m \u001b[32m38.6/38.6 MB\u001b[0m \u001b[31m44.2 MB/s\u001b[0m eta \u001b[36m0:00:00\u001b[0m:00:01\u001b[0m00:01\u001b[0m\n",
      "\u001b[2K   \u001b[90m━━━━━━━━━━━━━━━━━━━━━━━━━━━━━━━━━━━━━━━━\u001b[0m \u001b[32m16.5/16.5 MB\u001b[0m \u001b[31m81.4 MB/s\u001b[0m eta \u001b[36m0:00:00\u001b[0m:00:01\u001b[0m00:01\u001b[0m\n",
      "\u001b[2K   \u001b[90m━━━━━━━━━━━━━━━━━━━━━━━━━━━━━━━━━━━━━━━━\u001b[0m \u001b[32m46.0/46.0 kB\u001b[0m \u001b[31m2.2 MB/s\u001b[0m eta \u001b[36m0:00:00\u001b[0m\n",
      "\u001b[2K   \u001b[90m━━━━━━━━━━━━━━━━━━━━━━━━━━━━━━━━━━━━━━━━\u001b[0m \u001b[32m86.8/86.8 kB\u001b[0m \u001b[31m3.6 MB/s\u001b[0m eta \u001b[36m0:00:00\u001b[0m\n",
      "\u001b[?25h"
     ]
    }
   ],
   "source": [
    "# === Install dependencies (in Kaggle or local Jupyter) ===\n",
    "!pip install -q faster-whisper librosa soundfile pydub"
   ]
  },
  {
   "cell_type": "code",
   "execution_count": null,
   "metadata": {
    "trusted": true
   },
   "outputs": [],
   "source": [
    "# === Import libraries ===\n",
    "from pydub import AudioSegment\n",
    "from faster_whisper import WhisperModel\n",
    "import librosa\n",
    "import soundfile as sf\n",
    "from tempfile import NamedTemporaryFile\n",
    "\n",
    "# === Step 1: Convert MP3 to mono 16kHz WAV ===\n",
    "input_mp3 = \"/kaggle/input/interview/Audio.mp3\"\n",
    "output_wav = \"/kaggle/working/audio_fixed.wav\"\n",
    "\n",
    "audio = AudioSegment.from_mp3(input_mp3)\n",
    "audio = audio.set_channels(1).set_frame_rate(16000)\n",
    "audio.export(output_wav, format=\"wav\")\n",
    "\n",
    "# === Step 2: Load WAV (already 16kHz, so no need to resample) ===\n",
    "audio_data, sample_rate = librosa.load(output_wav, sr=16000)\n",
    "\n",
    "# === Step 3: Split based on silence ===\n",
    "intervals = librosa.effects.split(audio_data, top_db=30)  # silence threshold (in dB)\n",
    "print(f\"🔹 Detected {len(intervals)} audio chunks\")\n",
    "\n",
    "# === Step 4: Load Whisper model ===\n",
    "model = WhisperModel(\"large\", device=\"cuda\")  # use \"cpu\" if no GPU\n",
    "\n",
    "# === Step 5: Transcribe each chunk ===\n",
    "all_text = []\n",
    "\n",
    "for idx, (start, end) in enumerate(intervals):\n",
    "    duration = (end - start) / sample_rate\n",
    "    if duration < 1.0:\n",
    "        continue  # skip very short segments\n",
    "\n",
    "    print(f\"🎧 Transcribing chunk {idx + 1}/{len(intervals)} ({duration:.2f}s)\")\n",
    "\n",
    "    chunk = audio_data[start:end]\n",
    "\n",
    "    # Save chunk to temporary WAV file\n",
    "    with NamedTemporaryFile(suffix=\".wav\", delete=True) as temp_audio:\n",
    "        sf.write(temp_audio.name, chunk, sample_rate)\n",
    "        try:\n",
    "            segments, _ = model.transcribe(temp_audio.name, language=\"en\")\n",
    "            chunk_text = \"\".join([seg.text for seg in segments])\n",
    "            all_text.append(chunk_text)\n",
    "        except Exception as e:\n",
    "            print(f\"⚠️ Error transcribing chunk {idx + 1}: {e}\")\n",
    "\n",
    "# === Step 6: Combine and save transcription ===\n",
    "final_text = \" \".join(all_text)\n",
    "output_filename = \"whisper_large_transcript.txt\"\n",
    "\n",
    "with open(output_filename, \"w\", encoding=\"utf-8\") as f:\n",
    "    f.write(final_text)\n",
    "\n",
    "print(f\"\\n✅ Transcription complete. Output saved to: {output_filename}\")\n"
   ]
  }
 ],
 "metadata": {
  "kaggle": {
   "accelerator": "nvidiaTeslaT4",
   "dataSources": [
    {
     "datasetId": 7898987,
     "sourceId": 12514317,
     "sourceType": "datasetVersion"
    }
   ],
   "dockerImageVersionId": 31090,
   "isGpuEnabled": true,
   "isInternetEnabled": true,
   "language": "python",
   "sourceType": "notebook"
  },
  "kernelspec": {
   "display_name": "Python 3",
   "language": "python",
   "name": "python3"
  },
  "language_info": {
   "codemirror_mode": {
    "name": "ipython",
    "version": 3
   },
   "file_extension": ".py",
   "mimetype": "text/x-python",
   "name": "python",
   "nbconvert_exporter": "python",
   "pygments_lexer": "ipython3",
   "version": "3.11.13"
  }
 },
 "nbformat": 4,
 "nbformat_minor": 4
}
